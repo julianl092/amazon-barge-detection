{
 "cells": [
  {
   "cell_type": "markdown",
   "id": "4419f24f",
   "metadata": {},
   "source": [
    "# Tile JPG, PNG, TIF, TIFF image formats into 224x224 squares, optionally with specified GeoJSON AOI \n",
    "\n",
    "## Created by Julian Lee, April 8 2021"
   ]
  },
  {
   "cell_type": "code",
   "execution_count": 2,
   "id": "15a2cf70",
   "metadata": {},
   "outputs": [],
   "source": [
    "## Import Packages - if not installed, use conda or pip to install\n",
    "\n",
    "import os\n",
    "import rasterio as rio\n",
    "import shapely.geometry\n",
    "import datetime\n",
    "import utm\n",
    "import numpy as np\n",
    "\n",
    "from pathlib import Path\n",
    "from itertools import product\n",
    "from rasterio import windows\n",
    "from rasterio.mask import mask, raster_geometry_mask"
   ]
  },
  {
   "cell_type": "markdown",
   "id": "6e443fc2",
   "metadata": {},
   "source": [
    "#### User-defined parameters"
   ]
  },
  {
   "cell_type": "code",
   "execution_count": 3,
   "id": "c6070828",
   "metadata": {},
   "outputs": [],
   "source": [
    "image_source = 'Planet' # <--- Sentinel-1 or Planet\n",
    "image_name = '20210316_141406_103b_3B_AnalyticMS.tif' # < --- Image file name\n",
    "\n",
    "## Tile width & height\n",
    "tile_width, tile_height = 224, 224\n",
    "\n",
    "## Define overlap of tile windows in px\n",
    "width_overlap, height_overlap = 20, 20\n",
    "\n",
    "## Directory path of source image; modify to your own\n",
    "in_path = './images/' + image_source + '/originals/' + image_name\n",
    "\n",
    "## Relative directory path to save tiles; modify to your own\n",
    "out_path = './images/' + image_source + '/tiles/' + datetime.date.today().isoformat() + '/'\n",
    "\n",
    "## Optional GeoJSON Feature coordinates of area within image to tile, if image is georeferenced (.tif or .tiff)\n",
    "geojson = None"
   ]
  },
  {
   "cell_type": "markdown",
   "id": "24546c8b",
   "metadata": {},
   "source": [
    "#### Tiling script"
   ]
  },
  {
   "cell_type": "code",
   "execution_count": null,
   "id": "3e452024",
   "metadata": {},
   "outputs": [],
   "source": [
    "## If output path doesn't exist, create it\n",
    "Path(out_path).mkdir(parents=True, exist_ok=True)\n",
    "\n",
    "def get_tiles(ds, crop=None, width=224, height=224):\n",
    "    \n",
    "    ## Define crop window offsets with preset overlap\n",
    "    if crop:\n",
    "        nols, nrows = crop.width, crop.height\n",
    "        offsets = product(range(crop.col_off, crop.col_off + nols, width - width_overlap), range(crop.row_off, crop.row_off + nrows, height - height_overlap))\n",
    "    else:\n",
    "        nols, nrows = ds.width, ds.height\n",
    "        offsets = product(range(0, nols, width - width_overlap), range(0, nrows, height - height_overlap))\n",
    "    \n",
    "    big_window = windows.Window(col_off=0, row_off=0, width = ds.width, height = ds.height)\n",
    "    \n",
    "    for col_off, row_off in offsets:\n",
    "        \n",
    "        ## Handle edge cases to maintain dimensions\n",
    "        if col_off + width > ds.width: \n",
    "            col_off = ds.width - width\n",
    "        if row_off + height > ds.height: \n",
    "            row_off = ds.height - height\n",
    "            \n",
    "        window = windows.Window(col_off=col_off, row_off=row_off, width=width, height=height).intersection(big_window)\n",
    "        transform = windows.transform(window, ds.transform)\n",
    "        yield window, transform\n",
    "        \n",
    "with rio.open(in_path) as inds:\n",
    "    crop_window = None\n",
    "    \n",
    "    if inds.driver == 'GTiff':\n",
    "        output_filename = 'tile_{}-{}.tif'\n",
    "    elif inds.driver == 'PNG':\n",
    "        output_filename = 'tile_{}-{}.png'\n",
    "    else:\n",
    "        output_filename = 'tile_{}-{}.jpg'\n",
    "    \n",
    "    ## If GeoJSON AOI provided and image type is .tif or .tiff, crop the image\n",
    "    if geojson and inds.driver == 'GTiff':\n",
    "        \n",
    "        ## If image georeferencing is in lat-long, directly crop with the GeoJSON\n",
    "        if np.abs(inds.bounds.left <= 180) and np.abs(inds.bounds.top < 90): \n",
    "            geom = shapely.geometry.Polygon(geojson['geometry']['coordinates'][0])\n",
    "       \n",
    "        ## If image georeferencing is in UTM, convert GeoJSON to UTM before cropping\n",
    "        else:\n",
    "            for idx, pair in enumerate(geojson['geometry']['coordinates'][0]):\n",
    "                x, y, _, _ = utm.from_latlon(pair[1], pair[0])\n",
    "                geojson['geometry']['coordinates'][0][idx][0] = x\n",
    "                geojson['geometry']['coordinates'][0][idx][1] = y\n",
    "            geom = shapely.geometry.Polygon(geojson['geometry']['coordinates'][0])\n",
    "        \n",
    "        crop_window = raster_geometry_mask(inds, [geom], crop=True)[2]\n",
    "    \n",
    "    meta = inds.meta.copy()\n",
    "\n",
    "    for window, transform in get_tiles(inds, crop_window):\n",
    "        meta['transform'] = transform\n",
    "        meta['width'], meta['height'] = window.width, window.height\n",
    "        outpath = os.path.join(out_path,output_filename.format(int(window.col_off), int(window.row_off)))\n",
    "        with rio.open(outpath, 'w', **meta) as outds:\n",
    "            outds.write(inds.read(window=window))"
   ]
  }
 ],
 "metadata": {
  "kernelspec": {
   "display_name": "Python 3",
   "language": "python",
   "name": "python3"
  },
  "language_info": {
   "codemirror_mode": {
    "name": "ipython",
    "version": 3
   },
   "file_extension": ".py",
   "mimetype": "text/x-python",
   "name": "python",
   "nbconvert_exporter": "python",
   "pygments_lexer": "ipython3",
   "version": "3.7.10"
  }
 },
 "nbformat": 4,
 "nbformat_minor": 5
}
