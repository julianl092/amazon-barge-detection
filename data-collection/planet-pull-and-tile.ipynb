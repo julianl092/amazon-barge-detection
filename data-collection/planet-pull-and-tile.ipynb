{
 "cells": [
  {
   "cell_type": "markdown",
   "metadata": {},
   "source": [
    "# Search for clear Planet Images covering a GeoJSON-specified area, download, and tile into 224x224 squares\n",
    "\n",
    "## Created by Julian Lee, April 8 2021"
   ]
  },
  {
   "cell_type": "code",
   "execution_count": 69,
   "metadata": {},
   "outputs": [],
   "source": [
    "## Import Packages - if not installed, use conda or pip to install\n",
    "\n",
    "import requests\n",
    "import os\n",
    "import utm\n",
    "import rasterio as rio\n",
    "import shapely.geometry\n",
    "import datetime\n",
    "\n",
    "\n",
    "from pathlib import Path\n",
    "from dateutil.relativedelta import relativedelta\n",
    "from itertools import product\n",
    "from rasterio import windows\n",
    "from rasterio.mask import mask, raster_geometry_mask\n",
    "from rasterio.io import MemoryFile"
   ]
  },
  {
   "cell_type": "code",
   "execution_count": 51,
   "metadata": {},
   "outputs": [],
   "source": [
    "## Setup API Authentication\n",
    "\n",
    "os.environ['PL_API_KEY'] = 'ef1d2935cae84b3cb4e4cadd95a0779e'\n",
    "PLANET_API_KEY = os.getenv('PL_API_KEY')\n",
    "url = 'https://api.planet.com/data/v1/'\n",
    "\n",
    "session = requests.Session()\n",
    "session.auth = (PLANET_API_KEY, '')"
   ]
  },
  {
   "cell_type": "markdown",
   "metadata": {},
   "source": [
    "#### User-defined parameters"
   ]
  },
  {
   "cell_type": "code",
   "execution_count": 87,
   "metadata": {},
   "outputs": [],
   "source": [
    "## Tile width & height\n",
    "tile_width, tile_height = 224, 224\n",
    "\n",
    "## Define overlap of tile windows in px\n",
    "width_overlap, height_overlap = 20, 20\n",
    "\n",
    "## Relative directory path to save tiles\n",
    "out_path = './images/Planet/'+ datetime.date.today().isoformat() + '/'\n",
    "\n",
    "## Number of days in the past to search for clear imagery. Can increase if no results.\n",
    "days_range = 28\n",
    "\n",
    "## Minimum image clarity percentage, determined by Planet, to filter. Can lower if no results, but may give cloudy images. \n",
    "clear_threshold = 70\n",
    "\n",
    "## GeoJSON Feature area of interest: replace with your own. GeoJSONs can be generated from drawings at https://www.geojson.io\n",
    "geojson = {\n",
    "      \"type\": \"Feature\",\n",
    "      \"properties\": {},\n",
    "      \"geometry\": {\n",
    "        \"type\": \"Polygon\",\n",
    "        \"coordinates\": [\n",
    "          [\n",
    "            [\n",
    "              -63.9242935180664,\n",
    "              -8.745123882014676\n",
    "            ],\n",
    "            [\n",
    "              -63.92189025878906,\n",
    "              -8.770572869670541\n",
    "            ],\n",
    "            [\n",
    "              -63.90953063964843,\n",
    "              -8.768537014766189\n",
    "            ],\n",
    "            [\n",
    "              -63.9151954650879,\n",
    "              -8.74478455042093\n",
    "            ],\n",
    "            [\n",
    "              -63.91708374023437,\n",
    "              -8.727308555699958\n",
    "            ],\n",
    "            [\n",
    "              -63.9268684387207,\n",
    "              -8.729174963125589\n",
    "            ],\n",
    "            [\n",
    "              -63.9242935180664,\n",
    "              -8.745123882014676\n",
    "            ]\n",
    "          ]\n",
    "        ]\n",
    "      }\n",
    "    }"
   ]
  },
  {
   "cell_type": "markdown",
   "metadata": {},
   "source": [
    "#### Setup search filters"
   ]
  },
  {
   "cell_type": "code",
   "execution_count": 63,
   "metadata": {},
   "outputs": [],
   "source": [
    "item_types = ['PSScene3Band', 'PSScene4Band', 'PSOrthoTile', 'REOrthoTile', 'REScene', 'SkySatScene', 'SkySatCollect']\n",
    "end = datetime.datetime.utcnow() # <-- get current day in UTC\n",
    "start = datetime.datetime.utcnow() - relativedelta(days=days_range)  \n",
    "\n",
    "fltr = {\n",
    "    \"type\": \"AndFilter\",\n",
    "    \"config\": [\n",
    "        {\n",
    "            \"type\": \"DateRangeFilter\", \n",
    "            \"field_name\":\"acquired\",\n",
    "            \"config\": {\n",
    "              \"gt\": start.isoformat(\"T\") + \"Z\",\n",
    "              \"lte\": end.isoformat(\"T\") + \"Z\"\n",
    "           }\n",
    "        },\n",
    "        {\n",
    "           \"type\": \"GeometryFilter\",\n",
    "           \"field_name\":\"geometry\",\n",
    "           \"config\": geojson['features'][0]['geometry']\n",
    "        },\n",
    "        {\n",
    "           \"type\":\"RangeFilter\",\n",
    "           \"field_name\":\"clear_percent\",\n",
    "           \"config\":{\n",
    "              \"gte\": clear_threshold\n",
    "            }\n",
    "        },\n",
    "        {\n",
    "         \"type\":\"PermissionFilter\",\n",
    "         \"config\": [\n",
    "                \"assets:download\"\n",
    "            ]\n",
    "        }\n",
    "    ]\n",
    "}"
   ]
  },
  {
   "cell_type": "markdown",
   "metadata": {},
   "source": [
    "#### Send search to Planet API using given filters and choose the result with best coverage of our AOI"
   ]
  },
  {
   "cell_type": "code",
   "execution_count": 81,
   "metadata": {},
   "outputs": [],
   "source": [
    "res = session.post(url + 'quick-search', json = {'filter': fltr, 'item_types': item_types})\n",
    "features = res.json()['features']\n",
    "aoi = shapely.geometry.shape(geojson['geometry'])\n",
    "\n",
    "best_feature = None\n",
    "best_coverage = 0\n",
    "\n",
    "for feature in features:\n",
    "    intersection = shapely.geometry.shape(feature['geometry']).intersection(aoi).area \n",
    "    if intersection > best_coverage: \n",
    "        best_feature = feature\n",
    "        best_coverage = intersection"
   ]
  },
  {
   "cell_type": "markdown",
   "metadata": {},
   "source": [
    "#### Send activation request to Planet API for the best result - this prepares the image for download"
   ]
  },
  {
   "cell_type": "code",
   "execution_count": 65,
   "metadata": {},
   "outputs": [
    {
     "name": "stdout",
     "output_type": "stream",
     "text": [
      "Search successful, activation request status:  204\n"
     ]
    }
   ],
   "source": [
    "if best_feature:\n",
    "    asset = session.get(best_feature['_links']['assets']).json()\n",
    "    activation_link = asset['analytic']['_links']['activate']\n",
    "    res = session.post(activation_link)\n",
    "\n",
    "    ## This should output 200 or 204 \n",
    "    print('Search successful, activation request status: ', res.status_code)\n",
    "else:\n",
    "    print('No search results, widen filters')"
   ]
  },
  {
   "cell_type": "markdown",
   "metadata": {},
   "source": [
    "#### Download best image - the activation might take some time to process, so if this doesn't work just wait a few minutes"
   ]
  },
  {
   "cell_type": "code",
   "execution_count": 66,
   "metadata": {},
   "outputs": [],
   "source": [
    "download_link = session.get(best_feature['_links']['assets']).json()['analytic']['location']\n",
    "img = session.get(download_link)"
   ]
  },
  {
   "cell_type": "markdown",
   "metadata": {},
   "source": [
    "#### Convert AOI geometry from lat-long coordinates to UTM coordinates for filtering TIF file"
   ]
  },
  {
   "cell_type": "code",
   "execution_count": 85,
   "metadata": {},
   "outputs": [],
   "source": [
    "for idx, pair in enumerate(geojson['geometry']['coordinates'][0]):\n",
    "    x, y, _, _ = utm.from_latlon(pair[1], pair[0])\n",
    "    geojson['geometry']['coordinates'][0][idx][0] = x\n",
    "    geojson['geometry']['coordinates'][0][idx][1] = y\n",
    "geom = shapely.geometry.Polygon(geojson['geometry']['coordinates'][0])"
   ]
  },
  {
   "cell_type": "markdown",
   "metadata": {},
   "source": [
    "#### Tile the part of the image that covers the AOI into 224x224 TIF files and save "
   ]
  },
  {
   "cell_type": "code",
   "execution_count": 88,
   "metadata": {},
   "outputs": [],
   "source": [
    "output_filename = 'tile_{}-{}.tif'\n",
    "Path(out_path).mkdir(parents=True, exist_ok=True)\n",
    "\n",
    "def get_tiles(ds, crop, width=224, height=224):\n",
    "    nols, nrows = crop.width, crop.height\n",
    "    offsets = product(range(crop.col_off, crop.col_off + nols, width - width_overlap), range(crop.row_off, crop.row_off + nrows, height - height_overlap))\n",
    "    big_window = windows.Window(col_off=0, row_off=0, width = ds.width, height = ds.height)\n",
    "    for col_off, row_off in offsets:\n",
    "        window = windows.Window(col_off=col_off, row_off=row_off, width=width, height=height).intersection(big_window)\n",
    "        transform = windows.transform(window, ds.transform)\n",
    "        yield window, transform\n",
    "        \n",
    "with MemoryFile(img.content) as memfile:\n",
    "    with memfile.open() as inds:\n",
    "        crop_window = raster_geometry_mask(inds, [geom], crop=True)[2]\n",
    "\n",
    "        meta = inds.meta.copy()\n",
    "\n",
    "        for window, transform in get_tiles(inds, crop_window, tile_width, tile_height):\n",
    "            meta['transform'] = transform\n",
    "            meta['width'], meta['height'] = window.width, window.height\n",
    "            outpath = os.path.join(out_path,output_filename.format(int(window.col_off), int(window.row_off)))\n",
    "            with rio.open(outpath, 'w', **meta) as outds:\n",
    "                outds.write(inds.read(window=window))"
   ]
  },
  {
   "cell_type": "code",
   "execution_count": null,
   "metadata": {},
   "outputs": [],
   "source": []
  }
 ],
 "metadata": {
  "kernelspec": {
   "display_name": "Python 3",
   "language": "python",
   "name": "python3"
  },
  "language_info": {
   "codemirror_mode": {
    "name": "ipython",
    "version": 3
   },
   "file_extension": ".py",
   "mimetype": "text/x-python",
   "name": "python",
   "nbconvert_exporter": "python",
   "pygments_lexer": "ipython3",
   "version": "3.7.10"
  }
 },
 "nbformat": 4,
 "nbformat_minor": 4
}
