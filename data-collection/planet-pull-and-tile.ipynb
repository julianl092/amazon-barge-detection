{
 "cells": [
  {
   "cell_type": "markdown",
   "metadata": {},
   "source": [
    "# Search for clear Planet Images covering a GeoJSON-specified area, download, and tile into 224x224 squares\n",
    "\n",
    "## Created by Julian Lee, April 8 2021"
   ]
  },
  {
   "cell_type": "code",
   "execution_count": 2,
   "metadata": {},
   "outputs": [],
   "source": [
    "## Import Packages - if not installed, use conda or pip to install\n",
    "\n",
    "import requests\n",
    "import os\n",
    "import utm\n",
    "import rasterio as rio\n",
    "import shapely.geometry\n",
    "import datetime\n",
    "\n",
    "\n",
    "from pathlib import Path\n",
    "from dateutil.relativedelta import relativedelta\n",
    "from itertools import product\n",
    "from rasterio import windows\n",
    "from rasterio.mask import mask, raster_geometry_mask\n",
    "from rasterio.io import MemoryFile"
   ]
  },
  {
   "cell_type": "code",
   "execution_count": 3,
   "metadata": {},
   "outputs": [],
   "source": [
    "## Setup API Authentication\n",
    "\n",
    "os.environ['PL_API_KEY'] = 'ef1d2935cae84b3cb4e4cadd95a0779e'\n",
    "PLANET_API_KEY = os.getenv('PL_API_KEY')\n",
    "url = 'https://api.planet.com/data/v1/'\n",
    "\n",
    "session = requests.Session()\n",
    "session.auth = (PLANET_API_KEY, '')"
   ]
  },
  {
   "cell_type": "markdown",
   "metadata": {},
   "source": [
    "#### User-defined parameters"
   ]
  },
  {
   "cell_type": "code",
   "execution_count": 4,
   "metadata": {},
   "outputs": [],
   "source": [
    "## Tile width & height\n",
    "tile_width, tile_height = 224, 224\n",
    "\n",
    "## Define overlap of tile windows in px\n",
    "width_overlap, height_overlap = 20, 20\n",
    "\n",
    "## Relative directory path to save tiles\n",
    "out_path = './images/Planet/'+ datetime.date.today().isoformat() + '/'\n",
    "\n",
    "## Number of days in the past to search for clear imagery. Can increase if no results.\n",
    "days_range = 28\n",
    "\n",
    "## Minimum image clarity percentage, determined by Planet, to filter. Can lower if no results, but may give cloudy images. \n",
    "clear_threshold = 70\n",
    "\n",
    "## GeoJSON Feature area of interest: replace with your own. GeoJSONs can be generated from drawings at https://www.geojson.io\n",
    "geojson = {\"type\":\"Feature\",\"properties\":{},\"geometry\":{\"type\":\"Polygon\",\"coordinates\":[[[-64.818726,-9.498443],[-64.806529,-9.501545],[-64.813893,-9.528857],[-64.828469,-9.541491],[-64.834682,-9.531959],[-64.821641,-9.511078],[-64.818726,-9.498443]]]}}"
   ]
  },
  {
   "cell_type": "markdown",
   "metadata": {},
   "source": [
    "#### Setup search filters"
   ]
  },
  {
   "cell_type": "code",
   "execution_count": 13,
   "metadata": {},
   "outputs": [],
   "source": [
    "item_types = ['PSScene3Band', 'PSScene4Band']\n",
    "end = datetime.datetime.utcnow() # <-- get current day in UTC\n",
    "start = datetime.datetime.utcnow() - relativedelta(days=days_range)  \n",
    "\n",
    "fltr = {\n",
    "    \"type\": \"AndFilter\",\n",
    "    \"config\": [\n",
    "        {\n",
    "            \"type\": \"DateRangeFilter\", \n",
    "            \"field_name\":\"acquired\",\n",
    "            \"config\": {\n",
    "              \"gt\": start.isoformat(\"T\") + \"Z\",\n",
    "              \"lte\": end.isoformat(\"T\") + \"Z\"\n",
    "           }\n",
    "        },\n",
    "        {\n",
    "           \"type\": \"GeometryFilter\",\n",
    "           \"field_name\":\"geometry\",\n",
    "           \"config\": geojson['geometry']\n",
    "        },\n",
    "        {\n",
    "           \"type\":\"RangeFilter\",\n",
    "           \"field_name\":\"clear_percent\",\n",
    "           \"config\":{\n",
    "              \"gte\": clear_threshold\n",
    "            }\n",
    "        },\n",
    "        {\n",
    "         \"type\":\"PermissionFilter\",\n",
    "         \"config\": [\n",
    "                \"assets:download\"\n",
    "            ]\n",
    "        }\n",
    "    ]\n",
    "}"
   ]
  },
  {
   "cell_type": "markdown",
   "metadata": {},
   "source": [
    "#### Send search to Planet API using given filters and choose the result with best coverage of our AOI"
   ]
  },
  {
   "cell_type": "code",
   "execution_count": 14,
   "metadata": {},
   "outputs": [],
   "source": [
    "res = session.post(url + 'quick-search', json = {'filter': fltr, 'item_types': item_types})\n",
    "features = res.json()['features']\n",
    "aoi = shapely.geometry.shape(geojson['geometry'])\n",
    "\n",
    "best_feature = None\n",
    "best_coverage = 0\n",
    "\n",
    "for feature in features:\n",
    "    intersection = shapely.geometry.shape(feature['geometry']).intersection(aoi).area \n",
    "    if intersection > best_coverage: \n",
    "        best_feature = feature\n",
    "        best_coverage = intersection"
   ]
  },
  {
   "cell_type": "markdown",
   "metadata": {},
   "source": [
    "#### Send activation request to Planet API for the best result - this prepares the image for download"
   ]
  },
  {
   "cell_type": "code",
   "execution_count": 22,
   "metadata": {},
   "outputs": [],
   "source": [
    "order_url = 'https://api.planet.com/compute/ops/orders/v2'\n",
    "\n",
    "json = {\n",
    "    'name': 'order-' + datetime.datetime.utcnow().isoformat(), \n",
    "    'subscription_id': 544465,\n",
    "    'products': [\n",
    "        {\n",
    "            'item_ids': [best_feature['id']],\n",
    "            'item_type': best_feature['properties']['item_type'],\n",
    "            'product_bundle': 'analytic'\n",
    "        }\n",
    "    ],\n",
    "    'delivery': {\n",
    "        'single_archive': True\n",
    "    },\n",
    "    'notifications': {\n",
    "        'email': True\n",
    "    },\n",
    "    'order_type': 'partial',\n",
    "    'tools': [\n",
    "        {\n",
    "            'clip': {\n",
    "                'aoi': geojson['geometry']   \n",
    "            }\n",
    "        }\n",
    "    ]\n",
    "}"
   ]
  },
  {
   "cell_type": "code",
   "execution_count": 23,
   "metadata": {},
   "outputs": [
    {
     "name": "stdout",
     "output_type": "stream",
     "text": [
      "Search successful, activation request status:  202\n"
     ]
    }
   ],
   "source": [
    "if best_feature:\n",
    "    res = session.post(order_url, json=json)\n",
    "    if res.status_code == 202:\n",
    "    ## This should output 202 \n",
    "        print('Search successful, activation request status: ', res.status_code)\n",
    "    else:\n",
    "        print('Search unsuccessful, error: ', res.text)\n",
    "else:\n",
    "    print('No search results, widen filters')"
   ]
  }
 ],
 "metadata": {
  "kernelspec": {
   "display_name": "Python 3",
   "language": "python",
   "name": "python3"
  },
  "language_info": {
   "codemirror_mode": {
    "name": "ipython",
    "version": 3
   },
   "file_extension": ".py",
   "mimetype": "text/x-python",
   "name": "python",
   "nbconvert_exporter": "python",
   "pygments_lexer": "ipython3",
   "version": "3.7.10"
  }
 },
 "nbformat": 4,
 "nbformat_minor": 4
}
